{
  "cells": [
    {
      "cell_type": "markdown",
      "metadata": {
        "id": "90BWoGNgq3eQ"
      },
      "source": [
        "1. Crie um programa que receba o primeiro e último nome de uma pessoa (num só input), e imprima a abreviação do nome. Exemplo:\n",
        "\n",
        "- Entrada: Pedro Moura\n",
        "\n",
        "- Resultado: Moura, P."
      ]
    },
    {
      "cell_type": "code",
      "execution_count": null,
      "metadata": {
        "id": "QGJTuvHcrAFo"
      },
      "outputs": [],
      "source": [
        "def abreviacao(nome):\n",
        "  #transformar a str numa lista de dois elementos\n",
        "  i1 = i.split() #o split por default é feito pelos espaços\n",
        "  \n",
        "  #o resultado será o segundo elemento da lista, uma vírgula, o primeiro caratere do primeiro \n",
        "  #elemento da lista e um ponto final\n",
        "  nome_proprio = i1[0]\n",
        "  apelido = i1[1]\n",
        "  final = apelido + ', ' + nome_proprio[0] + '.'\n",
        "  return final"
      ]
    },
    {
      "cell_type": "code",
      "execution_count": null,
      "metadata": {
        "colab": {
          "base_uri": "https://localhost:8080/"
        },
        "id": "L5DC6h6Sq5aX",
        "outputId": "cf3614bc-98b8-4bf8-bf0f-c0e97d2414ce"
      },
      "outputs": [
        {
          "name": "stdout",
          "output_type": "stream",
          "text": [
            "Insira o seu nome: Cristiana Neto\n",
            "['Cristiana', 'Neto']\n",
            "Neto, C.\n"
          ]
        }
      ],
      "source": [
        "i = input('Insira o seu nome: ')\n",
        "print(abreviacao(i))"
      ]
    },
    {
      "cell_type": "markdown",
      "metadata": {
        "id": "vLatVvk7reFz"
      },
      "source": [
        "2. Crie um programa que receba um texto separado por underscores e onde todas as letras são maiúsculas, e o converta para um texto separado por espaços e onde apenas a primeira letra é maiúscula. Adicionalmente, diga quantas substituições underscore->espaço foram feitas. Exemplo:\n",
        "\n",
        "- Entrada: HOJE_VAI_CHOVER.\n",
        "- Resultado: Hoje vai chover. Conversões '_'->' ': 2"
      ]
    },
    {
      "cell_type": "code",
      "execution_count": null,
      "metadata": {
        "id": "BoWpBbaOsrvp"
      },
      "outputs": [],
      "source": [
        "def converter(frase):\n",
        "  # contar as conversões\n",
        "  conversoes = frase.count('_')\n",
        "  \n",
        "  # tirar os underscores\n",
        "  frase = frase.replace('_', ' ')\n",
        "\n",
        "  # meter tudo em minúscula e o H em maiúsculo\n",
        "  frase = frase.capitalize()\n",
        "  \n",
        "  return frase,conversoes"
      ]
    },
    {
      "cell_type": "code",
      "execution_count": null,
      "metadata": {
        "colab": {
          "base_uri": "https://localhost:8080/"
        },
        "id": "OLKmnUqbrd18",
        "outputId": "215d9c28-45f9-46ae-887c-3720bdfeca7c"
      },
      "outputs": [
        {
          "name": "stdout",
          "output_type": "stream",
          "text": [
            "Escreva uma frase:\n",
            "ola_eu_sou_um_teste\n",
            "Ola eu sou um teste\n",
            "Conversões '_'->' ' : 4\n"
          ]
        }
      ],
      "source": [
        "frase = input('Escreva uma frase:\\n')\n",
        "resultado = converter(frase)\n",
        "print(resultado[0])\n",
        "print(\"Conversões '_'->' ' : \", resultado[1])"
      ]
    },
    {
      "cell_type": "markdown",
      "metadata": {
        "id": "F57CbQwov0pf"
      },
      "source": [
        "3. Um palíndromo é uma sequência de caracteres cuja leitura é idêntica se feita da direita para esquerda ou vice−versa. Por exemplo: OSSO e OVO são palíndromos. Em textos mais complexos os espaços são ignorados. A frase \"A mala nada na lama\" é o exemplo de uma frase palíndroma onde os espaços foram ignorados. Faça um programa que leia uma sequência de caracteres, mostre−a e diga se é um palíndromo ou não."
      ]
    },
    {
      "cell_type": "code",
      "execution_count": null,
      "metadata": {
        "id": "Kz811O4srP3P"
      },
      "outputs": [],
      "source": [
        "def palindromo(texto): \n",
        "  exFormatada = texto.upper().replace(' ', '')\n",
        "  expInv = exFormatada[::-1]\n",
        "  if exFormatada == expInv:\n",
        "    return('É palíndromo, pois, {} --> {}.'.format(exFormatada, expInv))\n",
        "  else:\n",
        "    return('Não é palíndromo.')"
      ]
    },
    {
      "cell_type": "code",
      "execution_count": null,
      "metadata": {
        "colab": {
          "base_uri": "https://localhost:8080/",
          "height": 53
        },
        "id": "tKU5_-dnv43X",
        "outputId": "1870eece-2c28-49fa-e974-9399bdd72304"
      },
      "outputs": [
        {
          "name": "stdout",
          "output_type": "stream",
          "text": [
            "Escreva uma expressão: A mala nada na lama\n"
          ]
        },
        {
          "data": {
            "application/vnd.google.colaboratory.intrinsic+json": {
              "type": "string"
            },
            "text/plain": [
              "'É palíndromo, pois, AMALANADANALAMA --> AMALANADANALAMA.'"
            ]
          },
          "execution_count": 19,
          "metadata": {},
          "output_type": "execute_result"
        }
      ],
      "source": [
        "expressao = input('Escreva uma expressão: ')\n",
        "palindromo(expressao)"
      ]
    },
    {
      "cell_type": "markdown",
      "metadata": {
        "id": "hfy18J_txH9b"
      },
      "source": [
        "4. Crie um programa onde o utilizador insere uma expressão qualquer que use parênteses e analisa se a expressão colocada está com os parênteses abertos e fechados corretamente."
      ]
    },
    {
      "cell_type": "code",
      "execution_count": null,
      "metadata": {
        "id": "z8pn-SAywXXQ"
      },
      "outputs": [],
      "source": [
        "def parenteses(expressao):\n",
        "  abrir = expressao.count(\"(\")\n",
        "  fechar = expressao.count(\")\")\n",
        "  if abrir == 0 and fechar == 0:\n",
        "    return \"Não há parênteses na expressão.\"\n",
        "  elif abrir == fechar:\n",
        "    return \"Parênteses abertos e fechados na mesma quantidade.\"\n",
        "  elif abrir > fechar:\n",
        "    return \"Tem mais parênteses abertos do que fechados.\"\n",
        "  else:  \n",
        "    return \"Tem mais parênteses fechados do que abertos.\""
      ]
    },
    {
      "cell_type": "code",
      "execution_count": null,
      "metadata": {
        "colab": {
          "base_uri": "https://localhost:8080/",
          "height": 53
        },
        "id": "HKYTXEYfyUup",
        "outputId": "d5d863b8-d5ba-469f-db34-f755682da9b3"
      },
      "outputs": [
        {
          "name": "stdout",
          "output_type": "stream",
          "text": [
            "Insira a expressão: (x+1\n"
          ]
        },
        {
          "data": {
            "application/vnd.google.colaboratory.intrinsic+json": {
              "type": "string"
            },
            "text/plain": [
              "'Tem mais parênteses abertos do que fechados.'"
            ]
          },
          "execution_count": 24,
          "metadata": {},
          "output_type": "execute_result"
        }
      ],
      "source": [
        "exp = input(\"Insira a expressão: \")\n",
        "parenteses(exp)"
      ]
    },
    {
      "cell_type": "markdown",
      "metadata": {
        "id": "1lpiDWaxytsm"
      },
      "source": [
        "5. Crie um programa que simule a criação de uma conta (username e password) num determinado site. A password tem de ter um mínimo de 5 caracteres e o username não pode existir na lista de usernames já inseridos. Armazene também todos os utilizadores/passwords numa lista de tuplos."
      ]
    },
    {
      "cell_type": "code",
      "execution_count": null,
      "metadata": {
        "id": "Z8sEmBxo3Dxr"
      },
      "outputs": [],
      "source": [
        "utilizadores = []\n",
        "contas = []"
      ]
    },
    {
      "cell_type": "code",
      "execution_count": null,
      "metadata": {
        "id": "JXFpIbbfydy0"
      },
      "outputs": [],
      "source": [
        "def nova_conta(): \n",
        "  user = input('Username: ' )\n",
        "  if(utilizadores.count(user)>0):\n",
        "    print('Este username já existe.')\n",
        "  else:\n",
        "    password = input('Password: ')\n",
        "    if(len(password)<5):\n",
        "      print('A password tem de ter mais de 5 caracteres.')\n",
        "    else:\n",
        "      utilizadores.append(user)\n",
        "      contas.append((user,password))"
      ]
    },
    {
      "cell_type": "code",
      "execution_count": null,
      "metadata": {
        "colab": {
          "base_uri": "https://localhost:8080/"
        },
        "id": "MXh-lbuH0Wwm",
        "outputId": "d21c41ee-d436-4c53-e781-fdfea70576f0"
      },
      "outputs": [
        {
          "name": "stdout",
          "output_type": "stream",
          "text": [
            "Username: Cris\n",
            "Password: c\n",
            "A password tem de ter mais de 5 caracteres.\n"
          ]
        }
      ],
      "source": [
        "nova_conta()"
      ]
    },
    {
      "cell_type": "markdown",
      "metadata": {
        "id": "eRbitEbf3eYR"
      },
      "source": [
        "6. Desenvolva um programa que receba as notas de um aluno (separadas por vígulas), que as guarde numa lista e que apresente a média final (pode usar o método sum()). Caso a média seja igual ou superior a 10, apresentar a mensagem \"APROVADO\", caso contrário, pedir ao utilizador a nota do recurso. Caso a nota do recurso seja maior ou igual a 10, apresentar a mensagem \"APROVADO\", caso contrário, apresentar a mensagem \"REPROVADO\""
      ]
    },
    {
      "cell_type": "code",
      "execution_count": null,
      "metadata": {
        "id": "MJa4p5gC1G-O"
      },
      "outputs": [],
      "source": [
        "def aprovado():\n",
        "  notas = input(\"Insira as suas notas: \")\n",
        "  lista_notas = notas.split(',')\n",
        "  lista_notas_int = list(map(int, lista_notas))\n",
        "\n",
        "  media = sum(lista_notas_int) / len(lista_notas_int)\n",
        "\n",
        "  if(media<9.5):\n",
        "    print('Não Aprovado em época normal')\n",
        "    recurso = float(input('Insira a nota de recurso: '))\n",
        "    if(recurso<9.5):\n",
        "      print('Não Aprovado em época de recurso')\n",
        "    else: print('Aprovado em época de recurso')\n",
        "  else: print('Aprovado em época normal')\n"
      ]
    },
    {
      "cell_type": "code",
      "source": [
        "aprovado()"
      ],
      "metadata": {
        "colab": {
          "base_uri": "https://localhost:8080/"
        },
        "id": "GH93ozAwd6vF",
        "outputId": "0898a9b4-e108-4456-ed8b-212c2052d267"
      },
      "execution_count": null,
      "outputs": [
        {
          "output_type": "stream",
          "name": "stdout",
          "text": [
            "Insira as suas notas: 2,2,2,2\n",
            "Não Aprovado em época normal\n",
            "Insira a nota de recurso: 2\n",
            "Não Aprovado em época de recurso\n"
          ]
        }
      ]
    },
    {
      "cell_type": "markdown",
      "metadata": {
        "id": "uqrpmFVoDRP0"
      },
      "source": [
        "7. Escreva um programa que permita ao utilizador inserir o seu número de telemóvel numa lista de bloqueados, ver a lista, remover um número e limpar a lista. O número só deve ser inserido na lista se ainda não existir, caso contrário, o utilizador deve ser avisado que o seu número já se encontra na lista. É ainda obrigatório que o número inserido contenha o indicativo de Portugal (+351) e 9 digitos após o indicativo. Assim, deve ser apresentado ao utilizador as seguintes opções:\n",
        "\n",
        "    a) Adicionar número à lista de bloquados.\n",
        "\n",
        "    b) Remover número da lista de bloqueados.\n",
        "\n",
        "    c) Limpar a lista de bloqueados.\n",
        "\n",
        "    d) Ver lista de bloqueados.\n"
      ]
    },
    {
      "cell_type": "code",
      "execution_count": null,
      "metadata": {
        "id": "bSCb1zE0EmVX"
      },
      "outputs": [],
      "source": [
        "numeros = []"
      ]
    },
    {
      "cell_type": "code",
      "source": [
        "def inserir(tel):\n",
        "  if(tel[:4] == '+351'):\n",
        "    if(len(tel) == 13):\n",
        "      if(numeros.count(tel)>0):\n",
        "        print('Não foi possível inserir. O número já existe na lista')\n",
        "      else: \n",
        "        numeros.append(tel)\n",
        "        print('Número inserido com sucesso')\n",
        "    else: print('O número deve ter nove digitos')\n",
        "  else: print('O número não é português')\n",
        "\n",
        "def eliminar(tel):\n",
        "  if(numeros.count(tel)>0):\n",
        "    numeros.remove(tel)\n",
        "    print('Número eliminado com sucesso')\n",
        "  else: print('O número não existe na lista')\n"
      ],
      "metadata": {
        "id": "telm_3u7elPo"
      },
      "execution_count": null,
      "outputs": []
    },
    {
      "cell_type": "code",
      "execution_count": null,
      "metadata": {
        "colab": {
          "base_uri": "https://localhost:8080/"
        },
        "id": "W91Riti8DqnZ",
        "outputId": "fa084fc1-d00a-4494-cd66-8dca2daa7212"
      },
      "outputs": [
        {
          "output_type": "stream",
          "name": "stdout",
          "text": [
            "a) Adicionar número à lista de bloquados. \n",
            " b) Remover número da lista de bloqueados. \n",
            " c) Limpar a lista de bloqueados. \n",
            " d) Ver lista de bloqueados.\n",
            "Escolha uma das opções: d\n",
            "[]\n"
          ]
        }
      ],
      "source": [
        "print('a) Adicionar número à lista de bloquados. \\n b) Remover número da lista de bloqueados. \\n c) Limpar a lista de bloqueados. \\n d) Ver lista de bloqueados.')\n",
        "opcao = input(\"Escolha uma das opções: \")\n",
        "\n",
        "if opcao == 'a':\n",
        "  tel = input('Insira o número: ')\n",
        "  inserir(tel)\n",
        "elif opcao == 'b':\n",
        "  tel = input('Insira o número que quer eliminar: ')\n",
        "  eliminar(tel)\n",
        "elif opcao=='c':\n",
        "  numeros.clear()\n",
        "  print('Lista limpa com sucesso')\n",
        "elif opcao=='d':\n",
        "  print(numeros)\n",
        "else: print('Opção inválida.')\n"
      ]
    },
    {
      "cell_type": "markdown",
      "metadata": {
        "id": "07sOFAHy5dCD"
      },
      "source": [
        "8. Escreva um programa que receba um url e retorne as suas componentes. Indique ainda de\n",
        "o url inserido pertence ao domínio de topo na internet de Portugal (.pt). Exemplo:\n",
        "\n",
        "- Entrada: http://www.google.com\n",
        "- Resultado: Protocolo: http, subdomínio: www, domínio: google, TLD: com. Este\n",
        "url não pertence ao domínio de topo na internet de Portugal."
      ]
    },
    {
      "cell_type": "code",
      "execution_count": null,
      "metadata": {
        "id": "ykyjvgf730-i"
      },
      "outputs": [],
      "source": [
        "def dominio(url):\n",
        "  fin = url.find('//')\n",
        "  dominicio = url.find('.') #encontrar o primeiro ponto\n",
        "  domfim = url.rfind('.') #encontrar o segundo ponto\n",
        "\n",
        "  protocolo = url[:fin-1]\n",
        "  subdominio = url[fin+2:dominicio]\n",
        "  dominio = url[dominicio+1:domfim]\n",
        "  tld = url[domfim+1:]\n",
        "  \n",
        "  print('Protocolo: ' , protocolo)\n",
        "  print('Subdomínio:', subdominio)\n",
        "  print('Domínio:', dominio)\n",
        "  print('TLD:',tld)\n",
        "  \n",
        "  #verificar se pertence a portugal\n",
        "  if(url[domfim+1:] == 'pt'):\n",
        "    print('Domínio Português')\n",
        "  else: print('Domínio não português')"
      ]
    },
    {
      "cell_type": "code",
      "source": [
        "url = input('Insira um url: ')\n",
        "dominio(url)"
      ],
      "metadata": {
        "colab": {
          "base_uri": "https://localhost:8080/"
        },
        "id": "zagupIhNhCDv",
        "outputId": "77df5031-ab85-4511-bfe5-01ca1af69a10"
      },
      "execution_count": null,
      "outputs": [
        {
          "output_type": "stream",
          "name": "stdout",
          "text": [
            "Insira um url: https://www.google.com\n",
            "Protocolo:  https\n",
            "Subdomínio: www\n",
            "Domínio: google\n",
            "TLD: com\n",
            "Domínio não português\n"
          ]
        }
      ]
    },
    {
      "cell_type": "markdown",
      "metadata": {
        "id": "-Cb_9SC3LJ3Y"
      },
      "source": [
        "9. Escreva um programa que de acordo com o horário fornecido pelo utilizador, retorna um\n",
        "cumprimento adequado para o horário fornecido, ou seja:\n"
      ]
    },
    {
      "cell_type": "code",
      "execution_count": null,
      "metadata": {
        "colab": {
          "base_uri": "https://localhost:8080/"
        },
        "id": "svLvdWXt5812",
        "outputId": "883a3b60-56ae-44a7-bdd1-5c994656eae0"
      },
      "outputs": [
        {
          "output_type": "stream",
          "name": "stdout",
          "text": [
            "Insira a hora no seguinte formato. (hh:mm): 23:00\n",
            "Boa noite\n"
          ]
        }
      ],
      "source": [
        "# Solicitar o horário do utilizador\n",
        "hora = input('Insira a hora no seguinte formato. (hh:mm): ')\n",
        "\n",
        "#Separar a string 'hora' numa lista de dois termos onde h = 'hh' e m = 'mm'.\n",
        "x = hora.split(':')\n",
        "h = x[0]\n",
        "m = x[1]\n",
        "\n",
        "if (int(h) < 0 or int(h) > 24) or (int(m) < 0 or int(m) > 59):\n",
        "    print(f'O horário inserido {hora} está num formato incorreto.')\n",
        "else:\n",
        "    if int(h) >= 0 and int(h) <= 11:\n",
        "      print('Bom dia')\n",
        "    elif int(h) >= 12 and int(h) <=17:\n",
        "      print('Boa tarde')\n",
        "    else:\n",
        "      print('Boa noite')"
      ]
    },
    {
      "cell_type": "markdown",
      "source": [
        "Escreva uma função que recebe um tuplo de números e um número, e devolve a posição da primeira ocorrência desse número no tuplo. Caso o número não ocorra no tuplo deverá devolver falso. Exemplo:\n",
        "\n",
        "- Entrada: (4, 3, 2, 2, 1, 4), 1\n",
        "- Resultado: 4\n",
        "\n",
        "\n",
        "\n"
      ],
      "metadata": {
        "id": "4kDK5uYniELc"
      }
    },
    {
      "cell_type": "code",
      "execution_count": null,
      "metadata": {
        "id": "k5ZMm1wmcCZz"
      },
      "outputs": [],
      "source": [
        "def encontrarTuplo():\n",
        "  informacao = input('Insira um tuplo e o número que quer procurar, -> (tuplo),nr: ')\n",
        "\n",
        "  #eliminar os espaços\n",
        "  informacao = informacao.replace(\" \",\"\")\n",
        "  #transformar o input numa lista, em que sabemos que o ultimo elemento é o numero que queremos encontrar\n",
        "  numero = informacao.split(',')[-1]\n",
        "\n",
        "  #ir buscar os numeros do tuplo\n",
        "  numeros_tuplo = informacao[informacao.find('(')+1:informacao.find(')')]\n",
        "\n",
        "  #transformar a lista de numeros num tuplo\n",
        "  tuplo = tuple(numeros_tuplo.split(','))\n",
        "\n",
        "  #tentar encontrar o index do numero no tuplo\n",
        "  try :\n",
        "      pos = tuplo.index(numero)\n",
        "      print(\"Número encontrado na posição: \" , pos)\n",
        "  except ValueError:\n",
        "      print('Falso')"
      ]
    },
    {
      "cell_type": "code",
      "source": [
        "encontrarTuplo()"
      ],
      "metadata": {
        "colab": {
          "base_uri": "https://localhost:8080/"
        },
        "id": "TyUSW5Hzi-fO",
        "outputId": "069707b1-eac3-43ba-d1f8-c12983ffd2bc"
      },
      "execution_count": null,
      "outputs": [
        {
          "output_type": "stream",
          "name": "stdout",
          "text": [
            "Insira um tuplo e o número que quer procurar, -> (tuplo),nr: (4, 5), 4\n",
            "Número encontrado na posição:  0\n"
          ]
        }
      ]
    },
    {
      "cell_type": "markdown",
      "source": [
        "Faça um programa que leia dois vetores de 3 posições, que representam forças sobre um ponto no espaço 3D, e retorne a força resultante. Dica: a força resultante obtida através da soma dos valores das coordenadas correspondentes nos dois vetores: (x1 + x2), (y1 +\n",
        "y2), (z1 + z2)."
      ],
      "metadata": {
        "id": "VhoNlURsmpWV"
      }
    },
    {
      "cell_type": "code",
      "source": [
        "def vetor():\n",
        "  v1 = input('Insira um vetor no formato x,y,z: ')\n",
        "  v2 = input('Insira um vetor no formato x,y,z: ')\n",
        "\n",
        "  v1list = v1.split(',')\n",
        "  v2list = v2.split(',')\n",
        "\n",
        "  Fr = (float(v1list[0])+float(v2list[0]),float(v1list[1])+float(v2list[1]),float(v1list[2])+float(v2list[2]))\n",
        "  print(Fr)\n"
      ],
      "metadata": {
        "id": "UkNtMhqblqlY"
      },
      "execution_count": null,
      "outputs": []
    },
    {
      "cell_type": "code",
      "source": [
        "vetor()"
      ],
      "metadata": {
        "id": "FOoiFezen0EF"
      },
      "execution_count": null,
      "outputs": []
    },
    {
      "cell_type": "markdown",
      "source": [
        "Crie um tuplo preenchido com os 18 clubes da Primeira Liga de Futebol portuguesa,\n",
        "ordenados pela sua classificação. Depois crie um programa capaz de mostrar as seguintes informações, consoante a opção do utilizador:\n",
        "(a) Os 5 primeiros clubes.\n",
        "(b) Os últimos 4 clubes.\n",
        "(c) Equipas ordenadas por ordem alfabética.\n",
        "(d) Em que posição está o Vizela."
      ],
      "metadata": {
        "id": "zKXIWmqDok6c"
      }
    },
    {
      "cell_type": "code",
      "source": [
        "def primeira_liga():\n",
        "  clubes = (\"Porto\", \"Sporting\", \"Benfica\", \"Braga\", \"Gil\", \"VSC\", \"Estoril\", \"Marítimo\", \"Paços de Ferreira\", \"Santa Clara\", \"Portimonense\", \"Famalicão\", \"Boavista\", \"Vizela\", \"Arouca\", \"Tondela\", \"Moreirense\", \"B-SAD\")\n",
        "\n",
        "  print(\"(a) Os 5 primeiros clubes. \\n(b) Os últimos 4 clubes. \\n(c) Equipas ordenadas por ordem alfabética. \\n(d) Em que posição está o Vizela. \\nSelecione uma opção.\")\n",
        "\n",
        "  op = input(\"Escolha uma opção: \").lower()\n",
        "\n",
        "  if op == \"a\":\n",
        "      print(\"Os 5 primeiro clubes são:\", clubes[0:5])\n",
        "  elif op == \"b\":\n",
        "      print(\"Os últimos 4 clubes são:\", clubes[-5:-1])\n",
        "  elif op == \"c\":\n",
        "      print(sorted(clubes))\n",
        "  elif op == \"d\":\n",
        "      print(\"O Vizela está em\", clubes.index(\"Vizela\")+1, \"º lugar\")\n",
        "  else:\n",
        "      print(\"Opção inválida.\")"
      ],
      "metadata": {
        "id": "VqEMjNq4om6-"
      },
      "execution_count": null,
      "outputs": []
    },
    {
      "cell_type": "code",
      "source": [
        "primeira_liga()"
      ],
      "metadata": {
        "colab": {
          "base_uri": "https://localhost:8080/"
        },
        "id": "xdAnHnLXpQBq",
        "outputId": "dd536b8c-3794-49bb-a880-5fbc6ac10429"
      },
      "execution_count": null,
      "outputs": [
        {
          "output_type": "stream",
          "name": "stdout",
          "text": [
            "(a) Os 5 primeiros clubes. \n",
            "(b) Os últimos 4 clubes. \n",
            "(c) Equipas ordenadas por ordem alfabética. \n",
            "(d) Em que posição está o Vizela. \n",
            "Selecione uma opção.\n",
            "Escolha uma opção: b\n",
            "Os últimos 4 clubes são: ('Vizela', 'Arouca', 'Tondela', 'Moreirense')\n"
          ]
        }
      ]
    },
    {
      "cell_type": "code",
      "source": [
        ""
      ],
      "metadata": {
        "id": "SBG4ue7-qQda"
      },
      "execution_count": null,
      "outputs": []
    }
  ],
  "metadata": {
    "colab": {
      "name": "Tarefa4Res.ipynb",
      "provenance": [],
      "collapsed_sections": []
    },
    "kernelspec": {
      "display_name": "Python 3",
      "name": "python3"
    },
    "language_info": {
      "name": "python"
    }
  },
  "nbformat": 4,
  "nbformat_minor": 0
}