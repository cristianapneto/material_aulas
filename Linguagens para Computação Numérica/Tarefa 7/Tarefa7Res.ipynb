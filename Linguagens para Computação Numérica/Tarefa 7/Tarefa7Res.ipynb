{
  "nbformat": 4,
  "nbformat_minor": 0,
  "metadata": {
    "colab": {
      "name": "Tarefa7Res.ipynb",
      "provenance": [],
      "collapsed_sections": []
    },
    "kernelspec": {
      "name": "python3",
      "display_name": "Python 3"
    },
    "language_info": {
      "name": "python"
    }
  },
  "cells": [
    {
      "cell_type": "markdown",
      "source": [
        "1. Ler o ficheiro nomes.txt em formato texto, com uma lista de nomes não ordenados e criar\n",
        "um novo ficheiro com esses mesmos nomes ordenados por ordem alfabética."
      ],
      "metadata": {
        "id": "4lqVlSusf3Ze"
      }
    },
    {
      "cell_type": "code",
      "source": [
        "\n",
        "def ler_ordenar():\n",
        "  with open('nomes.txt','r') as f:\n",
        "    L=[]\n",
        "    for linha in f:\n",
        "        L.append(linha)\n",
        "    for i in range(len(L)-1):\n",
        "        for j in range(i+1,len(L)):\n",
        "            if L[i]>L[j]:\n",
        "                t=L[i]\n",
        "                L[i]=L[j]\n",
        "                L[j]=t\n",
        "    f=open('nomes_ordenados.txt', 'w')\n",
        "    f.writelines(L)\n",
        "    f.close()\n",
        "        \n",
        "#ler_ordenar()\n",
        "\n",
        "#outra solução\n",
        "def ler_ordenar2():\n",
        "    file_input=open(\"nomes.txt\",\"r\")\n",
        "    file_output=open(\"nomes_ordenados.txt\",\"w\")\n",
        "    with file_input as r, file_output as w:\n",
        "        for line in sorted(r): \n",
        "            w.write(line)   \n",
        "ler_ordenar2()\n",
        "\n",
        "#outra solução\n",
        "def ler_ordenar3():\n",
        "    ficheiro = open('nomes.txt', 'r')\n",
        "    lista=[]\n",
        "    for linha in ficheiro:\n",
        "        lista.append(linha)  \n",
        "    n = len(lista)\n",
        "    for i in range(n - 1):\n",
        "        for j in range(i + 1, n):\n",
        "            if lista[j] < lista[i]:\n",
        "                temp = lista[i]\n",
        "                lista[i] = lista[j]\n",
        "                lista[j] = temp\n",
        "    arquivo = open('nomes_ordenados.txt', 'w+')\n",
        "    for i in lista:\n",
        "        arquivo.writelines(i)\n",
        "    arquivo.close()\n",
        "    ficheiro.close()\n",
        "#ler_ordenar3()"
      ],
      "metadata": {
        "id": "l5OxG6ATf5J8"
      },
      "execution_count": null,
      "outputs": []
    },
    {
      "cell_type": "markdown",
      "source": [
        " 2 – Ler o ficheiro “programação.txt”em formato texto e criar um novo ficheiro com uma lista de todas as palavras e número de ocorrências de cada uma.\n"
      ],
      "metadata": {
        "id": "qoeyLRtOhx3G"
      }
    },
    {
      "cell_type": "code",
      "source": [
        "\n",
        "def ocorrencias():\n",
        "    ficheiro = open('programacao.txt', 'r')\n",
        "    palavra = ficheiro.read().split()   \n",
        "    dic={}\n",
        "\n",
        "    for i in palavra:\n",
        "        \n",
        "        if(i not in dic):\n",
        "            dic[i]=1\n",
        "        else:\n",
        "          n=dic[i]+1\n",
        "          dic[i]=n\n",
        "    arquivo = open('palavras.txt', 'w+')\n",
        "    arquivo.writelines(str(dic))\n",
        "#ocorrencias() \n",
        "\n",
        "#outra solução\n",
        "\n",
        "def ocorrencias2():\n",
        "    punc = '''!+()-[]{};:'\"\\,<>«»./?@#$%^&*_~1234567890'''\n",
        "    #limpar o ficheiro original e retirar pontuação e numeros\n",
        "    with open(\"programacao.txt\",\"r\") as file_input, open(\"programacao_limpo.txt\",\"w\") as file_output:\n",
        "        data = file_input.read()\n",
        "        for ele in data:\n",
        "          if ele in punc:\n",
        "            data = data.replace(ele, \"\")\n",
        "        file_output.write(data)\n",
        "   \n",
        "    count = {}\n",
        "\n",
        "    with open(\"programacao_limpo.txt\",\"r\") as f1:\n",
        "      for w in f1.read().split():\n",
        "          if w in count:\n",
        "              count[w] += 1\n",
        "          else:\n",
        "              count[w] = 1\n",
        "\n",
        "    with open(\"contagem.txt\",\"w\") as file_output2:\n",
        "      for palavra in count:\n",
        "          linha = palavra + \":\" + str(count[palavra]) + '\\n'\n",
        "          file_output2.write(linha)\n",
        "\n",
        "ocorrencias2()"
      ],
      "metadata": {
        "id": "-cjSFpj_hVB5"
      },
      "execution_count": null,
      "outputs": []
    },
    {
      "cell_type": "markdown",
      "source": [
        "3. Escreva um programa que leia uma sequência de valores numéricos de um ficheiro (um valor por linha) e que os escreva num outro ficheiro (um por linha) de forma ordenada (do mais pequeno para o maior)."
      ],
      "metadata": {
        "id": "_u3y_OFcqzjY"
      }
    },
    {
      "cell_type": "code",
      "source": [
        "def ordenar_nr():\n",
        "    X = []\n",
        "    with open('valores.txt','r') as f:\n",
        "      for line in f.readlines():\n",
        "        X.append(float(line))    \n",
        "      X.sort()\n",
        "      with open('valores_ordenados.txt','w') as f1:\n",
        "        for i in X:\n",
        "          linha = str(i) + '\\n'\n",
        "          f1.writelines(linha)\n",
        "\n",
        "ordenar_nr()"
      ],
      "metadata": {
        "colab": {
          "base_uri": "https://localhost:8080/"
        },
        "id": "whRYhQ3KrBnS",
        "outputId": "cc1b053a-9e75-4837-ce21-91bbe63ac333"
      },
      "execution_count": null,
      "outputs": [
        {
          "output_type": "stream",
          "name": "stdout",
          "text": [
            "1\n",
            "\n",
            "55\n",
            "\n",
            "6\n",
            "\n",
            "22\n",
            "\n",
            "9991\n",
            "\n",
            "2\n",
            "\n",
            "3\n"
          ]
        }
      ]
    },
    {
      "cell_type": "markdown",
      "source": [
        "4. Escreva um programa que grave num ficheiro uma matriz 10x10 com a \n",
        "diagonal preenchida com o valor 1 e o restante com o valor 0.\n"
      ],
      "metadata": {
        "id": "Xc0hyzRMn40C"
      }
    },
    {
      "cell_type": "code",
      "source": [
        "\n",
        "def matriz():\n",
        "    #criar a matriz\n",
        "    L=int(input(\"Número de linhas:\"))\n",
        "    C=int(input(\"Número de colunas:\"))\n",
        "    #cria-se uma matrix com zeros de tamanho L*C\n",
        "    M=[0]*L\n",
        "    #preenche-se a matriz\n",
        "    for i in range(L):\n",
        "        M[i]=[0]*L\n",
        "    #preenche-se a diagonal da matriz com uns\n",
        "    for l in range(L):\n",
        "        for c in range (C):\n",
        "            if(l==c):\n",
        "                M[l][c]=1\n",
        "    #criar um ficheiro para colocar a matriz\n",
        "    ficheiro=open('matriz.txt','w')\n",
        "    #escrever a matriz no ficheiro\n",
        "    for l in M:\n",
        "        for c in l:\n",
        "            #\\t significa tab\n",
        "            ficheiro.write(str(c)+\"\\t\")\n",
        "        #\\n significa mudança de linha\n",
        "        ficheiro.write(\"\\n\")\n",
        "    #fecho do ficheiro\n",
        "    ficheiro.close()\n",
        "\n",
        "#matriz()\n",
        "\n",
        "#outra solução\n",
        "def matriz2():\n",
        "    ficheiro=open(\"matriz2.txt\",\"w\")\n",
        "    for linha in range(10):\n",
        "        for coluna in range(10):\n",
        "            if linha==coluna:\n",
        "                ficheiro.write(\"1 \")\n",
        "            else:\n",
        "                ficheiro.write(\"0 \") \n",
        "        ficheiro.write(\"\\n\")\n",
        "    ficheiro.close()\n",
        "matriz2()\n",
        "\n",
        "#outra solução\n",
        "def matriz3():\n",
        "    M=[0]*10\n",
        "    for i in range (10):\n",
        "        M[i]=[0]*10\n",
        "    for i in range (10):\n",
        "        for j in range (10):\n",
        "            if(i==j):\n",
        "                M[i][j]=1\n",
        "    arquivo = open('matriz.txt', 'w+')         \n",
        "    for i in M:\n",
        "        for j in i:\n",
        "            arquivo.write(str(j)+\"\\t\")\n",
        "        arquivo.write(\"\\n\")   \n",
        "    arquivo.close()\n",
        "#matriz3()"
      ],
      "metadata": {
        "id": "TtO2r7A8iAId"
      },
      "execution_count": null,
      "outputs": []
    },
    {
      "cell_type": "markdown",
      "source": [
        "5. O ficheiro sistema_solar.txt apresenta informações sobre a distância média do sol, a massa e o raio de uma seleção de corpos celestiais do nosso sistema solar.\n"
      ],
      "metadata": {
        "id": "myJDhkCquDN4"
      }
    },
    {
      "cell_type": "code",
      "source": [
        "import math\n",
        "\n",
        "def densidade():\n",
        "  distancia = {}\n",
        "  massa = {}\n",
        "  raio = {}\n",
        "  densidades = {}\n",
        "\n",
        "  with open('sistema_solar.txt','r') as f:\n",
        "    for linha in f:\n",
        "      linha = linha.strip().split()\n",
        "      distancia[linha[0]] = linha[1]\n",
        "      massa[linha[0]] = linha[2]\n",
        "      raio[linha[0]] = linha[3]\n",
        "      densidade = (4/3) * math.pi * int(linha[3]) * 1000\n",
        "      densidades[linha[0]] = densidade\n",
        "  with open('sistema_solar_dens.txt','w') as f:\n",
        "    for o in distancia:\n",
        "      linha = o + ' ' + distancia[o] + ' ' + massa[o] + ' ' + raio[o] + ' ' + str(densidades[o]) + '\\n'\n",
        "      f.write(linha)"
      ],
      "metadata": {
        "id": "UpHuj0xpoMeN"
      },
      "execution_count": 4,
      "outputs": []
    },
    {
      "cell_type": "code",
      "source": [
        "densidade()"
      ],
      "metadata": {
        "id": "85NG2qSaVCMW"
      },
      "execution_count": 5,
      "outputs": []
    },
    {
      "cell_type": "markdown",
      "source": [
        "6. Quando trabalhamos com o valor da aceleração da gravidade é comum desprezarmos o local da Terra onde nos encontramos. Na verdade, o valor de $g$ depende de onde estamos localizados, mais precisamente da altitude e latitude do local. O ficheiro valores\\_g.txt apresenta os valores arredondados de $g$ numa seleção de cidades. \n",
        "        \n",
        "    Escreva um programa que leia o ficheiro e crie um dicionário onde será guardado o $g$ associado a cada cidade. Por exemplo, a aceleração da gravidade em Estolcomo é $g = 9.818m/s^2$. Ou seja, o dicionário deve ser feito de modo a que s mandarmos Estocolmo como key, o dicionário deve retornar $9.818$. \n",
        "        \n",
        "    Atenção que as cidades podem ter mais que um nome, portanto é aconselhado o uso do \\texttt{split()} e posterior verificação da lista obtida (se o comprimento da lista for mais que dois, quer dizer que a cidade tem mais de uma palavra). Por fim, pretende-se que o utilizador insira um cidade e a massa de um objeto e obtenha a força gravítica calculada com o respetivo valor de g."
      ],
      "metadata": {
        "id": "Boeu5ropyfSO"
      }
    },
    {
      "cell_type": "code",
      "source": [
        "valores_g = {}\n",
        "with open('valores_g.txt','r') as ficheiro:\n",
        "  for linha in ficheiro:   \n",
        "    linha = linha.split()\n",
        "    if(len(linha)>2):\n",
        "      ultimo = linha[-1]\n",
        "      cidade = ' '.join(linha[:-1])\n",
        "      linha = [cidade,ultimo]\n",
        "    valores_g[linha[0]] = linha[1]   \n",
        "\n",
        "cidade = input('Insira a cidade: ')\n",
        "massa = float(input('Insira a massa: '))\n",
        "valor_de_g = float(valores_g[cidade])\n",
        "forca = massa * valor_de_g\n",
        "print(forca)\n",
        "\n",
        "\n",
        "\n"
      ],
      "metadata": {
        "id": "_0Q-fHdYyG6s"
      },
      "execution_count": null,
      "outputs": []
    },
    {
      "cell_type": "code",
      "source": [
        "a = int(input())\n",
        "print(a)"
      ],
      "metadata": {
        "colab": {
          "base_uri": "https://localhost:8080/"
        },
        "id": "aTlEVA5xuf8Q",
        "outputId": "87f66721-20f1-4656-85b5-cc51d4d4e459"
      },
      "execution_count": null,
      "outputs": [
        {
          "output_type": "stream",
          "name": "stdout",
          "text": [
            "02\n",
            "2\n"
          ]
        }
      ]
    },
    {
      "cell_type": "code",
      "source": [
        "\n",
        "def dizgecalculap():\n",
        "    valaceleracoes = []\n",
        "    \n",
        "    with open(\"valores_g.txt\", \"r\") as valoresg:\n",
        "        for line in valoresg.readlines():\n",
        "            valaceleracoes.append(line)\n",
        "    \n",
        "    valaceleracoes = [elem.replace('\\t', ' ') for elem in valaceleracoes]\n",
        "    valaceleracoes = [elem.replace('\\n', \"\") for elem in valaceleracoes]\n",
        "    \n",
        "    for i in range(len(valaceleracoes)):\n",
        "        valaceleracoes[i] = valaceleracoes[i].split(\" \")\n",
        "        del valaceleracoes[i][-1]\n",
        "    \n",
        "    aceleracoes = {}\n",
        "\n",
        "    for i in range(len(valaceleracoes)):\n",
        "        if len(valaceleracoes[i]) == 4:\n",
        "            aceleracoes[valaceleracoes[i][0] + \" \" + valaceleracoes[i][1] + \" \" + valaceleracoes[i][2]] = float(valaceleracoes[i][3])\n",
        "        elif len(valaceleracoes[i]) == 3:\n",
        "            aceleracoes[valaceleracoes[i][0] + \" \" + valaceleracoes[i][1]] = float(valaceleracoes[i][2])\n",
        "        else:\n",
        "            aceleracoes[valaceleracoes[i][0]] = float(valaceleracoes[i][1])\n",
        "\n",
        "    s = aceleracoes.values()\n",
        "    \n",
        "    print(aceleracoes)\n",
        "    \n",
        "        \n",
        "    cidade = str(input(\"Indique o nome da cidade cuja aceleração gravítica pretende utilizar: \"))\n",
        "    massa = float(input(\"Indique a massa do objeto cuja força gravítica pretende calcular: \"))\n",
        "\n",
        "    fg = aceleracoes[cidade] * massa\n",
        "    return fg\n",
        "\n",
        "dizgecalculap()"
      ],
      "metadata": {
        "id": "XdRly9ihulF1",
        "colab": {
          "base_uri": "https://localhost:8080/"
        },
        "outputId": "977d6055-1350-457e-901a-375217d7ccd3"
      },
      "execution_count": null,
      "outputs": [
        {
          "name": "stdout",
          "output_type": "stream",
          "text": [
            "{'Amsterdam': 9.813, 'Athens': 9.8, 'Auckland': 9.799, 'Bangkok': 9.783, 'Brussels': 9.811, 'Buenos Aires': 9.797, 'Calcutta': 9.788, 'Cape Town': 9.796, 'Chicago': 9.803, 'Copenhagen': 9.815, 'Frankfurt': 9.81, 'Havana': 9.788, 'Helsinki': 9.819, 'Istanbul': 9.808, 'Jakarta': 9.781, 'Kuwait': 9.793, 'Lisbon': 9.801, 'London': 9.812, 'Los Angeles': 9.796, 'Madrid': 9.8, 'Manila': 9.784, 'Mexico City': 9.779, 'Montréal': 9.789, 'New York City': 9.802, 'Nicosia': 9.797, 'Oslo': 9.819, 'Ottawa': 9.806, 'Paris': 9.809, 'Rio de Janeiro': 9.788, 'Rome': 9.803, 'San Francisco': 9.8, 'Singapore': 9.781, 'Skopje': 9.804, 'Stockholm': 9.818, 'Sydney': 9.797, 'Taipei': 9.79, 'Tokyo': 9.798, 'Vancouver': 9.809, 'Washington, D.C.': 9.801, 'Wellington': 9.803, 'Zurich': 9.807}\n",
            "Indique o nome da cidade cuja aceleração gravítica pretende utilizar: Amsterdam\n",
            "Indique a massa do objeto cuja força gravítica pretende calcular: 4\n"
          ]
        },
        {
          "output_type": "execute_result",
          "data": {
            "text/plain": [
              "39.252"
            ]
          },
          "metadata": {},
          "execution_count": 11
        }
      ]
    },
    {
      "cell_type": "code",
      "source": [
        ""
      ],
      "metadata": {
        "id": "CX18B4Wuqcdr"
      },
      "execution_count": null,
      "outputs": []
    }
  ]
}