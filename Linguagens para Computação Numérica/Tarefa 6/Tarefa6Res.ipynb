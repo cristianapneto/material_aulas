{
  "nbformat": 4,
  "nbformat_minor": 0,
  "metadata": {
    "colab": {
      "name": "Tarefa6Res.ipynb",
      "provenance": [],
      "collapsed_sections": []
    },
    "kernelspec": {
      "name": "python3",
      "display_name": "Python 3"
    },
    "language_info": {
      "name": "python"
    }
  },
  "cells": [
    {
      "cell_type": "markdown",
      "source": [
        "1. Faça duas funções: uma que faça a leitura dos elementos de uma matriz e outra que faça a impressão formatada dessa mesma matriz. Nota: a primeira função deve receber inicialmente a dimensão m e n da matriz e só depois deve pedir os valores a inserir na matriz ao utilizador.\n"
      ],
      "metadata": {
        "id": "HUcGfv14_yOr"
      }
    },
    {
      "cell_type": "code",
      "execution_count": null,
      "metadata": {
        "id": "xbLHJ9QJ_tyK"
      },
      "outputs": [],
      "source": [
        "def leMatriz(m,n):\n",
        "  matriz = []\n",
        "  for i in range(m):\n",
        "    a =[]\n",
        "    for j in range(n):\n",
        "      a.append(int(input(\"insira um valor\")))\n",
        "    matriz.append(a)\n",
        "  return matriz"
      ]
    },
    {
      "cell_type": "code",
      "source": [
        "def imprimeMatriz(mat):\n",
        "  for linha in mat:\n",
        "    for numero in linha:\n",
        "      print(numero, end=\" \")\n",
        "    #imprime números na mesma linha separados por espaço\n",
        "    print()"
      ],
      "metadata": {
        "id": "ABAJgHMr_8wB"
      },
      "execution_count": null,
      "outputs": []
    },
    {
      "cell_type": "code",
      "source": [
        "a = leMatriz(2,2)"
      ],
      "metadata": {
        "id": "Z25xO470WvrU"
      },
      "execution_count": null,
      "outputs": []
    },
    {
      "cell_type": "code",
      "source": [
        "imprimeMatriz(a)"
      ],
      "metadata": {
        "id": "OQw9bNXGW5F7"
      },
      "execution_count": null,
      "outputs": []
    },
    {
      "cell_type": "markdown",
      "source": [
        "2. Faça um algoritmo que solicite ao utilizador números e os armazene em uma matriz 6×6. Em seguida, crie um vetor que armazene os elementos da diagonal principal da matriz."
      ],
      "metadata": {
        "id": "nKfy4Y2g__kD"
      }
    },
    {
      "cell_type": "code",
      "source": [
        "\n",
        "vet = [0]*6\n",
        "\n",
        "def diagonal_principal(matriz):\n",
        "  for i in range(len(matriz)):\n",
        "      for j in range(len(matriz[i])):\n",
        "          if i == j:\n",
        "              vet[i] = matriz[i][j]\n",
        "  print(vet, 'é a diagnoal principal da seguinte matriz:')\n",
        "  imprimeMatriz(matriz)\n",
        "\n",
        "\n"
      ],
      "metadata": {
        "id": "Y02yMWcA_-5O"
      },
      "execution_count": null,
      "outputs": []
    },
    {
      "cell_type": "code",
      "source": [
        "matriz = leMatriz(6,6)\n",
        "diagonal_principal(matriz)"
      ],
      "metadata": {
        "id": "4BI4ziTxCsHj"
      },
      "execution_count": null,
      "outputs": []
    },
    {
      "cell_type": "markdown",
      "source": [
        "3. Tendo uma matriz 10×10 preenchida com valores aleatórios entre 10 e 50 (use a biblioteca random), mostre a média dos elementos da diagonal secundária."
      ],
      "metadata": {
        "id": "99O5XHvmEBy9"
      }
    },
    {
      "cell_type": "code",
      "source": [
        "import random\n",
        "\n",
        "def matrizRandom(m,n):\n",
        "  matriz = []\n",
        "  for i in range(m):\n",
        "    a =[]\n",
        "    for j in range(n):\n",
        "      a.append(random.randint(10,50))\n",
        "    matriz.append(a)\n",
        "  return matriz\n",
        "\n",
        "def mediadiagsec(m):\n",
        "  aux = len(m[0])-1\n",
        "  soma = 0\n",
        "\n",
        "  for i in range(len(m)):\n",
        "      soma = soma + m[i][aux]\n",
        "      aux = aux - 1\n",
        "\n",
        "  for i in range(len(m[0])):\n",
        "      print(m[i][:])\n",
        "  print('Média: ', soma/len(m))"
      ],
      "metadata": {
        "id": "jYbg3GfYDiSW"
      },
      "execution_count": null,
      "outputs": []
    },
    {
      "cell_type": "code",
      "source": [
        "m = matrizRandom(10,10)\n",
        "mediadiagsec(m)"
      ],
      "metadata": {
        "id": "K_ZjgSWMF_m_"
      },
      "execution_count": null,
      "outputs": []
    },
    {
      "cell_type": "markdown",
      "source": [
        "4. Dada uma matriz, indicar se se trata de uma matriz triangular superior (matriz quadrada com todos os valores debaixo da diagonal a zero).\n",
        "    "
      ],
      "metadata": {
        "id": "1n08ZSyMI8hq"
      }
    },
    {
      "cell_type": "code",
      "source": [
        "def triang_sup(m):\n",
        "    for l in range(len(m)):\n",
        "        for c in range (len(m[l])):\n",
        "            if l>c:\n",
        "                if m[l][c]!=0:\n",
        "                    return False\n",
        "    return True "
      ],
      "metadata": {
        "id": "09wHSv1VGDKs"
      },
      "execution_count": null,
      "outputs": []
    },
    {
      "cell_type": "code",
      "source": [
        "matriz = leMatriz(3,3)\n",
        "triang_sup(matriz)"
      ],
      "metadata": {
        "id": "yH7D8k6Xt188"
      },
      "execution_count": null,
      "outputs": []
    },
    {
      "cell_type": "markdown",
      "source": [
        "5. Dada uma matriz, indicar quantos valores existem superiores à média."
      ],
      "metadata": {
        "id": "v1cZcxR9WKbo"
      }
    },
    {
      "cell_type": "code",
      "source": [
        "def sup_media(m):\n",
        "    soma_total=0\n",
        "    for l in range (len(m)):\n",
        "        for c in range (len(m[0])):\n",
        "            soma_total=soma_total+m[l][c]\n",
        "    media=soma_total/(len(m)*len(m[0]))\n",
        "\n",
        "    print(media)\n",
        "    \n",
        "    contador=0\n",
        "    for l in range (len(m)):\n",
        "        for c in range (len(m[0])):\n",
        "            if m[l][c]>media:\n",
        "                contador+=1\n",
        "    return contador"
      ],
      "metadata": {
        "id": "bBvrDf5kt41g"
      },
      "execution_count": null,
      "outputs": []
    },
    {
      "cell_type": "code",
      "source": [
        "a = leMatriz(2,2)\n",
        "sup_media(a)"
      ],
      "metadata": {
        "id": "MqGfHB-9WnwT"
      },
      "execution_count": null,
      "outputs": []
    },
    {
      "cell_type": "markdown",
      "source": [
        "6. Dada uma matriz, indicar se é simétrica (simetria de valores relativamente à diagonal)"
      ],
      "metadata": {
        "id": "aS1kJ10uZ973"
      }
    },
    {
      "cell_type": "code",
      "source": [
        "def simetrica(m):\n",
        "    for l in range(len(m)):\n",
        "        for c in range(len(m[0])):\n",
        "            if m[l][c]!=m[c][l]:\n",
        "                return False\n",
        "    return True"
      ],
      "metadata": {
        "id": "jEP1B6pDXBsu"
      },
      "execution_count": null,
      "outputs": []
    },
    {
      "cell_type": "code",
      "source": [
        "simetrica(a)"
      ],
      "metadata": {
        "id": "9zkVGQWIaF62"
      },
      "execution_count": null,
      "outputs": []
    },
    {
      "cell_type": "markdown",
      "source": [
        "7. Dada uma matriz e um valor, pretende-se uma matriz que seja o produto dos dois."
      ],
      "metadata": {
        "id": "73MBlgmYcV7L"
      }
    },
    {
      "cell_type": "code",
      "source": [
        "def produto(m):\n",
        "    n=float(input('Introduzir valor a multiplicar pela matriz: '))\n",
        "    m1=[]\n",
        "    for l in range (len(m)):\n",
        "        m2=[]\n",
        "        for c in range (len(m[0])):\n",
        "            y=n*m[l][c]\n",
        "            m2.append(y)\n",
        "        m1.append(m2)\n",
        "    return m1"
      ],
      "metadata": {
        "id": "8XAITX0ZaHqX"
      },
      "execution_count": null,
      "outputs": []
    },
    {
      "cell_type": "code",
      "source": [
        "produto(a)"
      ],
      "metadata": {
        "id": "Rqtz1B2uceHL"
      },
      "execution_count": null,
      "outputs": []
    },
    {
      "cell_type": "markdown",
      "source": [
        "8. Dada uma matriz pretende-se a matriz transposta (as linhas passam a ser as colunas)"
      ],
      "metadata": {
        "id": "6x_64kR00uD0"
      }
    },
    {
      "cell_type": "code",
      "source": [
        "def transposta(m):\n",
        "    n=[]\n",
        "    for l in range (len(m[0])):\n",
        "        p=[]\n",
        "        for c in range (len(m)):\n",
        "            y=m[c][l]\n",
        "            p.append(y)\n",
        "        n.append(p)\n",
        "    return n "
      ],
      "metadata": {
        "id": "heureYvmcff0"
      },
      "execution_count": null,
      "outputs": []
    },
    {
      "cell_type": "code",
      "source": [
        "b = leMatriz(3,3)\n",
        "imprimeMatriz(transposta(b))"
      ],
      "metadata": {
        "id": "dWBpt0iN09EB"
      },
      "execution_count": null,
      "outputs": []
    },
    {
      "cell_type": "markdown",
      "source": [
        "9. Dadas duas matrizes pretende-se a sua soma (têm de ter as mesmas dimensões)."
      ],
      "metadata": {
        "id": "ftksL4d21tF2"
      }
    },
    {
      "cell_type": "code",
      "source": [
        "def soma_matrizes(m):\n",
        "    linhas=int(input('n de linhas: '))\n",
        "    colunas=int(input('n de colunas: '))\n",
        "    m2=[]\n",
        "    soma=[]    \n",
        "    if len(m)==linhas and len(m[0])==colunas:\n",
        "      for i in range(linhas):\n",
        "        linha_soma = []\n",
        "        linha_m2 = []\n",
        "        for j in range (colunas):\n",
        "            a=int((input('valor: '))) \n",
        "            linha_m2.append(a)\n",
        "            linha_soma.append(m[i][j]+a)            \n",
        "            \n",
        "        m2.append(linha_m2)\n",
        "        soma.append(linha_soma)\n",
        "\n",
        "    print(\"Matriz soma:\")\n",
        "    return soma"
      ],
      "metadata": {
        "id": "J4aB6hz11PHY"
      },
      "execution_count": null,
      "outputs": []
    },
    {
      "cell_type": "code",
      "source": [
        "imprimeMatriz(soma_matrizes(b))"
      ],
      "metadata": {
        "id": "4DS-zeuR17ao"
      },
      "execution_count": null,
      "outputs": []
    },
    {
      "cell_type": "markdown",
      "source": [
        "10. Uma fábrica possui 5 unidades produtivas. Cada unidade produtiva tem na sua estrutura\n",
        "um conjunto de 10 máquinas. Dado o rendimento de cada uma das máquinas de cada\n",
        "unidade produtiva, indicar qual a unidade produtiva com maior rendimento e a máquina\n",
        "com menor rendimento (obs.: cada máquina é identificada por um número de 1 a 10 e\n",
        "pela unidade a que pertence, de 1 a 5)."
      ],
      "metadata": {
        "id": "k19lCWHY4DJr"
      }
    },
    {
      "cell_type": "code",
      "source": [
        "def maq():\n",
        "    #rendimento das maquinas: cada linha é uma unidade produtiva e cada coluna uma máquina\n",
        "    M = [[23, 42, 45, 94, 31, 43, 55, 69, 22, 19], [65, 38, 72, 23, 45, 63, 75, 12, 34, 59], [75, 34, 76, 97, 46, 28, 48, 24, 54, 23], [63, 64, 32, 98, 13, 45, 53, 27, 84, 37], [43, 56, 87, 15, 92, 36, 54, 21, 66, 43]]  \n",
        "    unidade = 0\n",
        "    maquina = 0\n",
        "    unidade_max = 0\n",
        "    rend = 0\n",
        "    max = 0\n",
        "    min = M[0][0]\n",
        "    for l in range(5):\n",
        "        s = 0\n",
        "        for c in range(10):\n",
        "            s = s + M[l][c]\n",
        "            if (M[l][c] < min):\n",
        "                unidade = l+1\n",
        "                maquina = c+1\n",
        "                min = M[l][c]\n",
        "            if (s > max):\n",
        "                max = s\n",
        "                rend = s/10\n",
        "                unidade_max = l+1\n",
        "    print(\"a unidade com maior rendimento é a\", unidade_max, \"com\", rend, \"de rendimento médio\")\n",
        "    print(\"a maquina com menor rendimento é a numero\", maquina, \"da unidade\", unidade, \"com\", min, \"de rendimento\")\n",
        "maq()"
      ],
      "metadata": {
        "id": "ytL687rg2AeP"
      },
      "execution_count": null,
      "outputs": []
    },
    {
      "cell_type": "markdown",
      "source": [
        "11. Resolva os exercícios 2, 3, 4, 5, 6, 7, 8 e 9 usando o Numpy."
      ],
      "metadata": {
        "id": "KFa_HphM7L7H"
      }
    },
    {
      "cell_type": "code",
      "source": [
        "import numpy as np\n",
        "#2\n",
        "def diagonal_principal_numpy(m):\n",
        "  m = np.array(m)\n",
        "  return np.diag(m)"
      ],
      "metadata": {
        "id": "4GHZXduU6mli"
      },
      "execution_count": null,
      "outputs": []
    },
    {
      "cell_type": "code",
      "source": [
        "m = leMatriz(6,6)\n",
        "imprimeMatriz(m)\n",
        "diagonal_principal_numpy(m)"
      ],
      "metadata": {
        "id": "nI1v2c729A85"
      },
      "execution_count": null,
      "outputs": []
    },
    {
      "cell_type": "code",
      "source": [
        "#3 \n",
        "def mediadiagsec_numpy(m):\n",
        "  m_inv = np.fliplr(m) #Retorna a matriz invertida na direção esquerda-direita\n",
        "  diag_sec = np.diag(m_inv)\n",
        "  media = np.mean(diag_sec)\n",
        "  return media\n",
        "\n",
        "#alternativa - versao simplificada:\n",
        "\n",
        "def mediadiagsec_numpy_v2(m):\n",
        "  return np.mean(np.diag(np.fliplr(m)))\n"
      ],
      "metadata": {
        "id": "DUetWgXJ9PR8"
      },
      "execution_count": null,
      "outputs": []
    },
    {
      "cell_type": "code",
      "source": [
        "m = matrizRandom(10,10)\n",
        "m = np.array(m)\n",
        "print(mediadiagsec_numpy(m))\n",
        "#print(mediadiagsec_numpy_v2(m))"
      ],
      "metadata": {
        "id": "VVo0M67FCuYK"
      },
      "execution_count": null,
      "outputs": []
    },
    {
      "cell_type": "code",
      "source": [
        "#4\n",
        "def triangular_superior_numpy(m):\n",
        "  m_triag_superior = np.triu(m) #retorna a matriz triagular superior (coloca os elementos abaixo da diagonal a zero)\n",
        "  return np.array_equal(m,m_triag_superior) #comparar se a matriz original é igual à matriz triagular superior calculada. Retorna True ou False\n"
      ],
      "metadata": {
        "id": "Zyu7L42hC6wI"
      },
      "execution_count": null,
      "outputs": []
    },
    {
      "cell_type": "code",
      "source": [
        "m = leMatriz(3,3)\n",
        "m = np.array(m)\n",
        "triangular_superior_numpy(m)"
      ],
      "metadata": {
        "id": "XSskuplEE5sx"
      },
      "execution_count": null,
      "outputs": []
    },
    {
      "cell_type": "code",
      "source": [
        "#5\n",
        "def sup_media_numpy(m):\n",
        "  return len(m[m>np.mean(m)])"
      ],
      "metadata": {
        "id": "hV2tOnEeE9RG"
      },
      "execution_count": null,
      "outputs": []
    },
    {
      "cell_type": "code",
      "source": [
        "m = leMatriz(3,3)\n",
        "m = np.array(m)\n",
        "sup_media_numpy(m)"
      ],
      "metadata": {
        "id": "wNzDXkOCG0ME"
      },
      "execution_count": null,
      "outputs": []
    },
    {
      "cell_type": "code",
      "source": [
        "#6\n",
        "def simetrica_numpy(m):\n",
        "  # ir buscar a transposta\n",
        "  t = m.transpose()\n",
        "  # comparar as duas matrizes com array_equal()\n",
        "  if np.array_equal(m, t): #se a original for igual à transposta significa que é simétrica\n",
        "      print(\"A matriz é simétrica\")\n",
        "  else:\n",
        "      print(\"A matriz não é simétrica\")"
      ],
      "metadata": {
        "id": "s1ta1O82G3hJ"
      },
      "execution_count": null,
      "outputs": []
    },
    {
      "cell_type": "code",
      "source": [
        "m = leMatriz(3,3)\n",
        "m = np.array(m)\n",
        "simetrica_numpy(m)"
      ],
      "metadata": {
        "id": "EDL3TrhvIwRl"
      },
      "execution_count": null,
      "outputs": []
    },
    {
      "cell_type": "code",
      "source": [
        "#7\n",
        "def produto_numpy(m):\n",
        "  n=float(input('Introduzir valor a multiplicar pela matriz: '))\n",
        "  return m * n"
      ],
      "metadata": {
        "id": "btUhDg9NIz-D"
      },
      "execution_count": null,
      "outputs": []
    },
    {
      "cell_type": "code",
      "source": [
        "m = leMatriz(3,3)\n",
        "m = np.array(m)\n",
        "produto_numpy(m)"
      ],
      "metadata": {
        "id": "-ANOKNCJJYLx"
      },
      "execution_count": null,
      "outputs": []
    },
    {
      "cell_type": "code",
      "source": [
        "#8\n",
        "m = leMatriz(3,3)\n",
        "np.array(m).transpose()"
      ],
      "metadata": {
        "id": "iSSqQgf5Jawc"
      },
      "execution_count": null,
      "outputs": []
    },
    {
      "cell_type": "code",
      "source": [
        "#9\n",
        "\n",
        "def soma_matrizes_numpy():\n",
        "  linhas = int(input('Quantas linhas terão as suas matrizes? '))\n",
        "  colunas = int(input('Quantas colunas terão as suas matrizes? '))\n",
        "  print('-------- Inserir valores para a primeira matriz ------------')\n",
        "  m1 = leMatriz(linhas,colunas)\n",
        "  print('-------- Inserir valores para a segunda matriz ------------')\n",
        "  m2 = leMatriz(linhas,colunas)\n",
        "\n",
        "  return np.array(m1) + np.array(m2)"
      ],
      "metadata": {
        "id": "6hjXyiTfJ1_t"
      },
      "execution_count": null,
      "outputs": []
    },
    {
      "cell_type": "code",
      "source": [
        "soma_matrizes_numpy()"
      ],
      "metadata": {
        "id": "FXuB9OKcKw-D"
      },
      "execution_count": null,
      "outputs": []
    }
  ]
}