{
  "nbformat": 4,
  "nbformat_minor": 0,
  "metadata": {
    "colab": {
      "name": "Tarefa5Res.ipynb",
      "provenance": [],
      "collapsed_sections": [
        "3prIXVVt2JkW",
        "8aEmgtS32Tyq",
        "PaVpF7AA2bin",
        "krePplwP2opj",
        "CTQ3yHYZ23B6"
      ]
    },
    "kernelspec": {
      "name": "python3",
      "display_name": "Python 3"
    },
    "language_info": {
      "name": "python"
    }
  },
  "cells": [
    {
      "cell_type": "markdown",
      "source": [
        "## Exercício 1"
      ],
      "metadata": {
        "id": "nqQea_j6qzc5"
      }
    },
    {
      "cell_type": "code",
      "source": [
        "populacao = { \"Amares\": 19853, \"Barcelos\": 124555, \"Braga\": 176154, \"Cabeceiras de Basto\": 17635, \"Celorico de Basto\": 19767, \"Esposende\": 35552, \"Fafe\": 53600, \"Guimarães\": 162636, \"Póvoa de Lanhoso\": 24230, \"Terras de Bouro\": 7506, \"Vieira do Minho\": 14077, \"Vila Nova de Famalicão\": 134969, \"Vila Verde\": 49171, \"Vizela\": 24477 }"
      ],
      "metadata": {
        "id": "M7C2EC-LrKoQ"
      },
      "execution_count": null,
      "outputs": []
    },
    {
      "cell_type": "markdown",
      "source": [
        "a) Use um ciclo for para mostrar o nome dos concelhos do dicionário populacao"
      ],
      "metadata": {
        "id": "NHrqdbQMq_i0"
      }
    },
    {
      "cell_type": "code",
      "execution_count": null,
      "metadata": {
        "id": "-9YSJTVrqg_m"
      },
      "outputs": [],
      "source": [
        "for c in populacao:\n",
        "    print(c)"
      ]
    },
    {
      "cell_type": "markdown",
      "source": [
        "b) Use o mesmo ciclo for e mostre apenas os concelhos do dicionário populacao que têm mais de 50000 habitantes."
      ],
      "metadata": {
        "id": "wKtA4zV8wbaW"
      }
    },
    {
      "cell_type": "code",
      "source": [
        "for c in populacao:\n",
        "    if (populacao[c] > 50000):\n",
        "        print(c)"
      ],
      "metadata": {
        "id": "g828YSpVwW8B"
      },
      "execution_count": null,
      "outputs": []
    },
    {
      "cell_type": "markdown",
      "source": [
        "c) Use um ciclo for para percorrer o dicionário populacao e mostrar os concelhos que seriam precisos para juntar no mínimo 200 000 habitantes."
      ],
      "metadata": {
        "id": "GLlqdlwIwvxJ"
      }
    },
    {
      "cell_type": "code",
      "source": [
        "# Com um ciclo for, usando o break para sair do ciclo\n",
        "# Abordagem mais simples do que usando um ciclo while\n",
        "# Não destroi o dicionário original populacao\n",
        "populacao = { \"Amares\": 19853, \"Barcelos\": 124555, \"Braga\": 176154, \"Cabeceiras de Basto\": 17635, \"Celorico de Basto\": 19767, \"Esposende\": 35552, \"Fafe\": 53600, \"Guimarães\": 162636, \"Póvoa de Lanhoso\": 24230, \"Terras de Bouro\": 7506, \"Vieira do Minho\": 14077, \"Vila Nova de Famalicão\": 134969, \"Vila Verde\": 49171, \"Vizela\": 24477 }\n",
        "\n",
        "soma = 0\n",
        "for x in populacao:\n",
        "    soma = soma + populacao[x]\n",
        "    print(x)\n",
        "    if soma > 200000:\n",
        "        break #quando chegar ao valor da soma pretendido posso parar o ciclo\n",
        "print(soma)"
      ],
      "metadata": {
        "id": "-QkZS-SWwibN"
      },
      "execution_count": null,
      "outputs": []
    },
    {
      "cell_type": "markdown",
      "source": [
        "Use um ciclo for para percorrer o dicionário populacao e mostrar os três primeiros concelhos que tenham o nome formado por mais do que uma palavra como \"Cabeceiras de Basto\", por exemplo."
      ],
      "metadata": {
        "id": "XF32t8lJzola"
      }
    },
    {
      "cell_type": "code",
      "source": [
        "contador = 0\n",
        "for x in populacao:\n",
        "    if (x.count(' ') != 0):\n",
        "        print(x)\n",
        "        contador += 1\n",
        "    if contador == 3:\n",
        "        break"
      ],
      "metadata": {
        "id": "agPuxR-mxAHx"
      },
      "execution_count": null,
      "outputs": []
    },
    {
      "cell_type": "code",
      "source": [
        ""
      ],
      "metadata": {
        "id": "yhJ7Kmmsz4Zp"
      },
      "execution_count": null,
      "outputs": []
    },
    {
      "cell_type": "markdown",
      "source": [
        "## Exercício 2"
      ],
      "metadata": {
        "id": "0IH39xcqz9Bz"
      }
    },
    {
      "cell_type": "code",
      "source": [
        "import math"
      ],
      "metadata": {
        "id": "27KbLPTM0oRD"
      },
      "execution_count": null,
      "outputs": []
    },
    {
      "cell_type": "code",
      "source": [
        "#2a\n",
        "def maximo():\n",
        "    n=int(input('tamanho da sequência: '))\n",
        "    maxi=float(input('1º valor da sequência: '))\n",
        "    for i in range (n-1):\n",
        "        y=float(input('Próximo valor da sequência: '))\n",
        "        if y>maxi:\n",
        "            maxi=y\n",
        "    print(\"O valor maximo é: \", maxi)\n",
        "\n",
        "#2b\n",
        "def minimo():\n",
        "\tn=int(input('tamanho da sequencia:'))\n",
        "\tmin=float(input('1º valor da sequencia:'))\n",
        "\tfor i in range (n-1):\n",
        "\t\ty=float(input('Próximo valor da sequencia:'))\n",
        "\t\tif y<min:\n",
        "\t\t\tmin=y\n",
        "\treturn min\n",
        "\n",
        "#2c\n",
        "def os3maiorespositivos():\n",
        "    n=int(input('tamanho da sequencia:'))\n",
        "    max1 = 0\n",
        "    max2 = 0\n",
        "    max3 = 0\n",
        "    for i in range (n):\n",
        "        x=float(input('valor da sequencia:'))\n",
        "        if x>max1:\n",
        "          max1=x\n",
        "        elif x>max2:\n",
        "          max2=x\n",
        "        elif x>max3:\n",
        "          max3=x\n",
        "    print('os 3 maiores da sequencia sao', max1, ',', max2, 'e', max3)\n",
        "    \n",
        "#2d\n",
        "def ex2d():\n",
        "\tn=int(input('tamanho da sequencia:'))\n",
        "\tsoma=0\n",
        "\tfor i in range(n):\n",
        "\t\tnum=int(input('numero da seq'))\n",
        "\t\tsoma=soma+num\n",
        "\tprint(soma)\n",
        "\n",
        "#2e\n",
        "def ex2e():\n",
        "\tn=int(input('tamanho da sequencia:'))\n",
        "\tcontador=0\n",
        "\tfor i in range(n):\n",
        "\t\tnum=float(input('numero da seq:'))\n",
        "\t\tif num>10:\n",
        "\t\t\tcontador+=1\n",
        "\tprint(contador)\n",
        "\t\n",
        "\n",
        "#2f\n",
        "def ex2f():\n",
        "\tn=int(input('tamanho da sequencia:'))\n",
        "\tcontador=0\n",
        "\tfor i in range(n):\n",
        "\t\tnum=float(input('numero da seq:'))\n",
        "\t\tif num>10:\n",
        "\t\t\tcontador+=1\n",
        "\ty=(contador/n)*100\n",
        "\tprint(y, '%')\n",
        " \n",
        "\n",
        "\n",
        "\n",
        "#2g\n",
        "def media():\n",
        "\tn=int(input('tamanho da sequencia:'))\n",
        "\tsoma=0\n",
        "\tfor i in range (n):\n",
        "\t\tx=float(input('valor da sequencia:'))\n",
        "\t\tsoma=soma+x\n",
        "\tmedia=soma/n\n",
        "\treturn media\n",
        "\n",
        "#2h\n",
        "def ex2h():\n",
        "\tn=int(input('tamanho da sequencia:'))\n",
        "\tsoma=0\n",
        "\tvalores_superiores=0\n",
        "\tfor i in range (n):\n",
        "\t\tnum=int(input('numero da sequencia:'))\n",
        "\t\tif num>10:\n",
        "\t\t\tvalores_superiores=valores_superiores+1\n",
        "\t\t\tsoma=soma+num\n",
        "\tmedia=soma/valores_superiores\n",
        "\treturn media"
      ],
      "metadata": {
        "id": "n5AlNcvd0AkD"
      },
      "execution_count": null,
      "outputs": []
    },
    {
      "cell_type": "code",
      "source": [
        ""
      ],
      "metadata": {
        "id": "4UO3IwQPuzRg"
      },
      "execution_count": null,
      "outputs": []
    },
    {
      "cell_type": "markdown",
      "source": [
        "## Exercício 3"
      ],
      "metadata": {
        "id": "tzQhHBsW1TxF"
      }
    },
    {
      "cell_type": "code",
      "source": [
        "#a\n",
        "def fun_max():\n",
        "    a=0\n",
        "    i=int(input(\"insira um numero para indicar que a sequencia acabou:\"))\n",
        "    maior=int(input(\"Insira o primeiro numero:\"))\n",
        "    if (maior==i):\n",
        "        print(\"o comprimento da sequencia e 0\")\n",
        "    else:\n",
        "        while (a!=i):\n",
        "            y=int(input(\"Insira o proximo numero:\"))\n",
        "            if y==i:\n",
        "                break\n",
        "            elif (y>=maior):\n",
        "                maior=y\n",
        "            else:\n",
        "                a=y\n",
        "        print(\"O maior numero e \",maior)\n",
        "\n",
        "#b\n",
        "def fun_min():\n",
        "    a=0\n",
        "    i=int(input(\"insira um numero para indicar que a sequencia acabou:\"))\n",
        "    menor=int(input(\"Insira o primeiro numero:\"))\n",
        "    if (menor==i):\n",
        "        print(\"o comprimento da sequencia e 0\")\n",
        "    else:\n",
        "        while (a!=i):\n",
        "            y=int(input(\"Insira o proximo numero:\"))\n",
        "            if y==i:\n",
        "                break\n",
        "            elif (y<=menor):\n",
        "                menor=y\n",
        "            else:\n",
        "                a=y\n",
        "        print(\"O menor numero e\",menor)\n",
        "\n",
        "#d\n",
        "def ex2dwhile():\n",
        "  final = float(input('Escolha um valor de paragem:' ))\n",
        "  continua = True\n",
        "  soma = 0\n",
        "  while continua== True:\n",
        "    nr = float(input('Insira um valor:' ))\n",
        "    if nr == final:\n",
        "      continua=False\n",
        "    else:\n",
        "\t\t\t  soma=soma+nr\n",
        "  print(soma)"
      ],
      "metadata": {
        "id": "8RadiW1g04Oi"
      },
      "execution_count": null,
      "outputs": []
    },
    {
      "cell_type": "code",
      "source": [
        "ex2dwhile()"
      ],
      "metadata": {
        "id": "iWMMi2zeax1i"
      },
      "execution_count": null,
      "outputs": []
    },
    {
      "cell_type": "markdown",
      "source": [
        "## Exercicio 4"
      ],
      "metadata": {
        "id": "C7nYEv4M1xIM"
      }
    },
    {
      "cell_type": "code",
      "source": [
        "def reta():\n",
        "    m=float(input('valor do declive da reta:'))\n",
        "    b=float(input('valor da ordenada na origem da reta:'))\n",
        "    for x in range (0,51,5):\n",
        "        y=m*x+b\n",
        "        print(\"(\",float(x),\", \",float(y),\")\")"
      ],
      "metadata": {
        "id": "_3BYpgdT1vtD"
      },
      "execution_count": null,
      "outputs": []
    },
    {
      "cell_type": "code",
      "source": [
        "reta()"
      ],
      "metadata": {
        "id": "XL5TA4R9mZZd"
      },
      "execution_count": null,
      "outputs": []
    },
    {
      "cell_type": "markdown",
      "source": [
        "## Execício 5"
      ],
      "metadata": {
        "id": "3prIXVVt2JkW"
      }
    },
    {
      "cell_type": "code",
      "source": [
        "def mult_3():\n",
        "    n=float(input('limite superior do intervalo:'))\n",
        "    L=[]\n",
        "    a=1+int(n)\n",
        "    for i in range(6,a,3):\n",
        "        L.append(i)\n",
        "    return (L)\n"
      ],
      "metadata": {
        "id": "eyn-q7v-1iav"
      },
      "execution_count": null,
      "outputs": []
    },
    {
      "cell_type": "markdown",
      "source": [
        "## Exercício 6"
      ],
      "metadata": {
        "id": "8aEmgtS32Tyq"
      }
    },
    {
      "cell_type": "code",
      "source": [
        "def fatorial():\n",
        "    n=int(input('introduzir valor a calcular fatorial:'))\n",
        "    if n>=0:\n",
        "        fat=1\n",
        "        a=1\n",
        "        while a!=(n+1):\n",
        "            fat=fat*a\n",
        "            a=a+1\n",
        "    elif n==0:\n",
        "        fat=1\n",
        "    else:\n",
        "        fat='nao existe fatorial de numeros negativos'\n",
        "    return fat\n"
      ],
      "metadata": {
        "id": "r5iqHNfc2U69"
      },
      "execution_count": null,
      "outputs": []
    },
    {
      "cell_type": "code",
      "source": [
        "fatorial()"
      ],
      "metadata": {
        "id": "5n95UOgide7c"
      },
      "execution_count": null,
      "outputs": []
    },
    {
      "cell_type": "markdown",
      "source": [
        "## Exercício 7"
      ],
      "metadata": {
        "id": "PaVpF7AA2bin"
      }
    },
    {
      "cell_type": "code",
      "source": [
        "def fib():\n",
        "   numero_de_termos = int(input(\"introduza um valor:\"))\n",
        "   contador = 0\n",
        "\n",
        "   primeiro = 0\n",
        "   segundo = 1\n",
        "   temp = 0\n",
        " \n",
        "   while contador <= numero_de_termos:\n",
        "      print(primeiro)\n",
        "      temp = primeiro + segundo\n",
        "      primeiro = segundo\n",
        "      segundo = temp\n",
        "      contador = contador + 1"
      ],
      "metadata": {
        "id": "2V7GRO-Od6hZ"
      },
      "execution_count": null,
      "outputs": []
    },
    {
      "cell_type": "code",
      "source": [
        "fib()"
      ],
      "metadata": {
        "id": "Jd-WyBGvd89u"
      },
      "execution_count": null,
      "outputs": []
    },
    {
      "cell_type": "markdown",
      "source": [
        "## Exercício 8"
      ],
      "metadata": {
        "id": "krePplwP2opj"
      }
    },
    {
      "cell_type": "code",
      "source": [
        "import math\n",
        "def decay():\n",
        "  t = 0\n",
        "  N0 = 4.5\n",
        "  r = 1760\n",
        "  Nt = 4.5\n",
        "  dec = {0:4.5}\n",
        "\n",
        "  while Nt > 0.5 * N0:\n",
        "    t = t + 60\n",
        "    Nt = N0 * math.exp(-t/r)  \n",
        "    dec[t] = Nt\n",
        "  print(dec)"
      ],
      "metadata": {
        "id": "69P55wQa2epM"
      },
      "execution_count": null,
      "outputs": []
    },
    {
      "cell_type": "code",
      "source": [
        "decay()"
      ],
      "metadata": {
        "id": "6jwrTkWiaY8F"
      },
      "execution_count": null,
      "outputs": []
    },
    {
      "cell_type": "markdown",
      "source": [
        "## Exercício 9"
      ],
      "metadata": {
        "id": "CTQ3yHYZ23B6"
      }
    },
    {
      "cell_type": "code",
      "source": [
        "def forca():\n",
        "  Ftotal = 0\n",
        "  G = 6.674 * 10**(-11)\n",
        "  for i in range(1,11):\n",
        "    m = i/6 +2\n",
        "    r = math.sqrt((i/4)**2 + 10)\n",
        "    F = G * ((m * 3)/r**2) \n",
        "    Ftotal = Ftotal + F\n",
        "\n",
        "  print(Ftotal)"
      ],
      "metadata": {
        "id": "G86Y9djL2zLW"
      },
      "execution_count": null,
      "outputs": []
    },
    {
      "cell_type": "code",
      "source": [
        "forca()"
      ],
      "metadata": {
        "id": "HSs33mBr3JRd"
      },
      "execution_count": null,
      "outputs": []
    },
    {
      "cell_type": "code",
      "source": [
        "import random\n",
        "\n",
        "def mediadiagsec():\n",
        "  tam = 10\n",
        "  m = []\n",
        "  for i in range(tam):\n",
        "    linha = []\n",
        "    for j in range(tam):\n",
        "      linha.append(random.randint(10,50))\n",
        "    m.append(linha)\n",
        "    \n",
        "  aux = tam-1\n",
        "  soma = 0\n",
        "\n",
        "  for i in range(tam):\n",
        "      soma = soma + m[i][aux]\n",
        "      aux = aux - 1\n",
        "\n",
        "  print('Média: ', soma/float(tam))"
      ],
      "metadata": {
        "id": "-YJn_VEY3TNB"
      },
      "execution_count": null,
      "outputs": []
    },
    {
      "cell_type": "code",
      "source": [
        "mediadiagsec()"
      ],
      "metadata": {
        "id": "x50ChdS7n-1c"
      },
      "execution_count": null,
      "outputs": []
    },
    {
      "cell_type": "code",
      "source": [
        ""
      ],
      "metadata": {
        "id": "kTG0oQTDokLc"
      },
      "execution_count": null,
      "outputs": []
    }
  ]
}